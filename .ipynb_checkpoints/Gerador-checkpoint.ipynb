{
 "cells": [
  {
   "cell_type": "code",
   "execution_count": 2,
   "id": "671bd085",
   "metadata": {
    "scrolled": true
   },
   "outputs": [],
   "source": [
    "#Criando layout\n",
    "import PySimpleGUI as sg\n",
    "\n",
    "layout=[\n",
    "    [sg.Text(\"Digite a descrição do projeto\")],\n",
    "    [sg.InputText(key='projeto')],\n",
    "    [sg.Text(\"Digite o total de horas estimadas\")],\n",
    "    [sg.InputText(key='horas_estimadas')],\n",
    "    [sg.Text(\"Digite o valor da hora trabalhada\")],\n",
    "    [sg.InputText(key='valor_hora')],\n",
    "    [sg.Text(\"Digite o prazo estimado\")],\n",
    "    [sg.InputText(key='prazo')],\n",
    "    [sg.Button(\"Gerar Orçamento\")],\n",
    "    [sg.Text(\"\",key='texto_orcamento')],\n",
    "]"
   ]
  },
  {
   "cell_type": "code",
   "execution_count": 3,
   "id": "da37ab64",
   "metadata": {
    "scrolled": false
   },
   "outputs": [
    {
     "name": "stdout",
     "output_type": "stream",
     "text": [
      "Orçamento gerado com sucesso\n"
     ]
    }
   ],
   "source": [
    "#Gerando PDF\n",
    "from fpdf import FPDF\n",
    "\n",
    "janela = sg.Window(\"Orçamento\",layout)\n",
    "\n",
    "while True:\n",
    "    evento, valores = janela.read()\n",
    "    if evento == sg.WIN_CLOSED:\n",
    "        break\n",
    "    if evento == \"Gerar Orçamento\":\n",
    "        janela['texto_orcamento'].update(\"Orçamento Gerado com Sucesso\")\n",
    "    if evento == \"Gerar Orçamento\":\n",
    "        \n",
    "        pdf = FPDF()\n",
    "\n",
    "        pdf.add_page()\n",
    "\n",
    "        pdf.set_font(\"Arial\")\n",
    "        pdf.image(\"template.png\", x=0,y=0)\n",
    "\n",
    "        pdf.text(115, 145, valores['projeto'])\n",
    "        pdf.text(115, 160, valores['horas_estimadas'])\n",
    "        pdf.text(115, 175, valores['valor_hora'])\n",
    "        pdf.text(115, 190, valores['prazo'])\n",
    "        \n",
    "        horas_estimadas = int(valores['horas_estimadas'].replace(' hora', ''))\n",
    "        valor_total = horas_estimadas * int(valores['valor_hora'])\n",
    "\n",
    "\n",
    "\n",
    "        pdf.text(115,205, str(valor_total))\n",
    "        pdf.output(\"Orçamento.pdf\")\n",
    "        print(\"Orçamento gerado com sucesso\")\n",
    "janela.close()"
   ]
  },
  {
   "cell_type": "code",
   "execution_count": null,
   "id": "b5737583",
   "metadata": {},
   "outputs": [],
   "source": []
  }
 ],
 "metadata": {
  "kernelspec": {
   "display_name": "Python 3 (ipykernel)",
   "language": "python",
   "name": "python3"
  },
  "language_info": {
   "codemirror_mode": {
    "name": "ipython",
    "version": 3
   },
   "file_extension": ".py",
   "mimetype": "text/x-python",
   "name": "python",
   "nbconvert_exporter": "python",
   "pygments_lexer": "ipython3",
   "version": "3.10.9"
  }
 },
 "nbformat": 4,
 "nbformat_minor": 5
}
